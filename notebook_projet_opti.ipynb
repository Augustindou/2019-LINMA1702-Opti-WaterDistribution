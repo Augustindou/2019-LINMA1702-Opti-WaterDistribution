{
 "cells": [
  {
   "cell_type": "code",
   "execution_count": 1,
   "metadata": {},
   "outputs": [],
   "source": [
    "import numpy as np\n",
    "from scipy.optimize import linprog\n"
   ]
  },
  {
   "cell_type": "markdown",
   "metadata": {},
   "source": [
    " **Valeurs :**\n",
    " - A : Matrice d'incidence\n",
    " - P : Matrice de position [x,y,z] => On nous donnera peut-être un vecteur de hauteurs et un vecteur de longueurs (pour le moment je calcule les longueurs en faisant sqrt(deltaX^2 + ...), en supposant donc des conduites rectilignes)\n",
    " - R : Vecteur contenant les rayons des conduites\n",
    " - Alpha : Vecteur contenant les constantes de proportionnalités $\\alpha$\n",
    " - MaxCons : Vecteur contenant les consommations maximales en chaque point (0 si le point n'est pas un point de consommation)\n",
    " - MinCons : Vecteur contenant les consommations minimales en chaque point (0 si le point n'est pas un point de consommation)\n",
    " - Prices : Prix de production/de vente pour les points d'approvisionnement/de consommation"
   ]
  },
  {
   "cell_type": "code",
   "execution_count": 2,
   "metadata": {},
   "outputs": [],
   "source": [
    "A = np.array([[-1,-1, 0, 0, 0, 0, 0, 0, 0, 0, 0, 0, 0, 0, 0, 0, 0, 0, 0, 0],\n",
    "              [ 0, 0, 1, 0, 1, 0, 0, 0, 0, 0, 0, 0, 0, 0, 0, 0, 0, 0, 0, 0],\n",
    "              [ 0, 1,-1,-1, 0, 0, 0, 0, 0, 0, 0, 0, 0, 0, 0, 0, 0, 0, 0, 0],\n",
    "              [ 0, 0, 0, 0, 0, 0, 0, 0, 1, 1, 0, 0, 0, 1, 0, 0, 0, 0, 0, 0],\n",
    "              [ 0, 0, 0, 0, 0, 0, 0, 0, 0, 0, 0, 0, 1, 0, 1, 1, 0, 0, 0, 0],\n",
    "              [ 0, 0, 0, 0, 0, 0, 0, 0, 0, 0, 0, 0, 0, 0, 0, 0,-1,-1, 1, 0],\n",
    "              [ 0, 0, 0, 0, 0, 0, 0, 0, 0, 0, 0, 0, 0, 0, 0, 0, 0, 0,-1,-1],\n",
    "              [ 0, 0, 0, 0, 0, 0, 1,-1, 0, 0, 0, 0, 0, 0, 0, 0, 0, 0, 0, 1],\n",
    "              [ 0, 0, 0, 0, 0, 0, 0, 0, 0, 0, 0, 0, 0, 0, 0,-1, 0, 0, 0, 0],\n",
    "              [ 0, 0, 0, 0, 0, 0, 0, 0, 0, 0, 0, 1, 0, 0, 0, 0, 0, 0, 0, 0],\n",
    "              [ 1, 0, 0, 0, 0, 0, 0, 0, 0, 0,-1, 0, 0, 0, 0, 0, 0, 0, 0, 0],\n",
    "              [ 0, 0, 0, 0,-1, 1, 0, 1,-1, 0, 0, 0, 0, 0, 0, 0, 0, 0, 0, 0],\n",
    "              [ 0, 0, 0, 0, 0,-1,-1, 0, 0, 0, 0, 0, 0, 0, 0, 0, 0, 0, 0, 0],\n",
    "              [ 0, 0, 0, 0, 0, 0, 0, 0, 0, 0, 0, 0, 0,-1,-1, 0, 1, 0, 0, 0],\n",
    "              [ 0, 0, 0, 0, 0, 0, 0, 0, 0, 0, 0, 0, 0, 0, 0, 0, 0, 1, 0, 0],\n",
    "              [ 0, 0, 0, 1, 0, 0, 0, 0, 0,-1, 1,-1,-1, 0, 0, 0, 0, 0, 0, 0]],\n",
    "dtype=float)\n",
    "\n",
    "P = np.array([[  4 ,  0 , 12 ], [  9 ,  1 ,  6 ], [  5 ,  3 ,  8 ], [  9 ,  7 ,  3 ], [  4 , 11 ,  1 ], [ 11 , 13 ,  9 ], [ 15 , 10 , 13 ], [ 12 ,  8 , 11 ], [  5 , 14 ,  7 ], [  1 ,  8 ,  2 ], [  3 ,  5 ,  9 ], [ 10 ,  4 ,  9 ], [ 14 ,  2 , 15 ], [  7 , 11 ,  5 ], [ 13 , 15 ,  4 ], [  5 ,  7 ,  4 ]], dtype=float)\n",
    "\n",
    "R     = np.array([3.0, 1.5, 0.9, 2.0, 0.7, 0.9, 1.3, 0.4, 1.0, 1.2, 0.5, 1.4, 1.0, 0.7, 2.0, 1.4, 1.2, 0.7, 3.2, 1.4], dtype=float)\n",
    "\n",
    "Alpha = np.array([  3,  7, 13,  1, 15,  9, 10, 13,  6,  8, 12, 10, 14,  8,  9, 12,  4,  2,  2,  3], dtype=float)\n",
    "\n",
    "MaxCons = np.array([  0,  7,  0,  5, 50,  0,  0,  0,  0, 10,  0,  0,  0,  0,0.9,  0], dtype=float)\n",
    "MinCons = np.array([  0,  2,  0,  1, 13,  0,  0,  0,  0,  2,  0,  0,  0,  0,0.3,  0], dtype=float)\n",
    "\n",
    "Prices = np.array([   7,   9,   0,  11,10.5,   0, 4.5,   0,  10,  14,   0,   0,   8,   0,12.5,   0], dtype=float)\n"
   ]
  },
  {
   "cell_type": "markdown",
   "metadata": {},
   "source": [
    " **Calcul de vecteurs/matrices utiles**\n",
    " - approvPts : index des points d'approvisionnement\n",
    " - consumPts : index des points de consommation\n",
    " - intermPts : index des points intermédiaires\n",
    " - deltaX, deltaY, deltaZ : différence en x, y et z entre l'arrivée et le départ de chaque conduite\n",
    "     - deltaZ est également la différence de hauteur ($\\Delta h$)\n",
    " - length : longueur des conduites (dans le cas (probable) où la longueur serait donnée à la place de x et y, cette ligne est à supprimer)\n",
    " - maxDebit : débit maximal dans chaque conduite ($f_max$ dans le rapport, à modifier dans le code pour avoir une correspondance?)\n",
    " - prodPrice : prix de production (0 si le point n'est pas un point d'approvisionnement) => Pas utile pour le moment... à supprimer ?\n",
    " - consPrice : prix de vente (0 si le point n'est pas un point de consommation) => Pas utile pour le moment... à supprimer ?"
   ]
  },
  {
   "cell_type": "code",
   "execution_count": 3,
   "metadata": {},
   "outputs": [],
   "source": [
    "approvPts = np.arange(len(A))[ np.invert( [( 1 in A[i]) for i in range(len(A))] ) ]\n",
    "consumPts = np.arange(len(A))[ np.invert( [(-1 in A[i]) for i in range(len(A))] ) ]\n",
    "intermPts = np.arange(len(A))[ np.logical_and( [( 1 in A[i]) for i in range(len(A))] , [(-1 in A[i]) for i in range(len(A))])]\n",
    "deltaX = A.T @ P[:,0]\n",
    "deltaY = A.T @ P[:,1]\n",
    "deltaZ = A.T @ P[:,2]\n",
    "length = np.sqrt(deltaX**2 + deltaY**2 + deltaZ**2)\n",
    "maxDebit = np.abs(Alpha*R**2*deltaZ/length)\n",
    "prodPrice  = np.zeros(len(P)) ; prodPrice[approvPts] = Prices[approvPts]\n",
    "consPrice  = np.zeros(len(P)) ; consPrice[consumPts] = Prices[consumPts]\n"
   ]
  },
  {
   "cell_type": "markdown",
   "metadata": {},
   "source": [
    " **Assemblage des différentes matrices et calcul de l'optimum**"
   ]
  },
  {
   "cell_type": "code",
   "execution_count": 4,
   "metadata": {},
   "outputs": [],
   "source": [
    "c = Prices.T @ A\n",
    "A_ub = np.vstack([np.identity(len(A[0])), -np.identity(len(A[0])), A[consumPts], -A[consumPts]])\n",
    "b_ub = np.concatenate([maxDebit, np.zeros(len(A[0])), MaxCons[consumPts], -MinCons[consumPts]])\n",
    "A_eq = A[intermPts]\n",
    "b_eq = np.zeros(len(intermPts))\n",
    "x = linprog(-c, A_ub, b_ub, A_eq, b_eq) ; x.fun = -x.fun"
   ]
  },
  {
   "cell_type": "markdown",
   "metadata": {},
   "source": [
    " **Calcul des valeurs de $\\theta_i$ et impression des résultats**"
   ]
  },
  {
   "cell_type": "code",
   "execution_count": 5,
   "metadata": {},
   "outputs": [
    {
     "name": "stdout",
     "output_type": "stream",
     "text": [
      "Vecteur Theta :\n",
      "[0.19071432 0.57685949 1.         1.         0.33490573 1.\n",
      " 0.         1.         0.94199028 0.         1.         0.63590158\n",
      " 0.         0.         0.13333333 1.         1.         1.\n",
      " 0.36681808 0.29771783]\n",
      "Optimum :\n",
      "106.60840864485994\n"
     ]
    }
   ],
   "source": [
    "theta = x.x/maxDebit\n",
    "print(\"Vecteur Theta :\")\n",
    "print(theta)\n",
    "print(\"Optimum :\")\n",
    "print(x.fun)"
   ]
  },
  {
   "cell_type": "code",
   "execution_count": null,
   "metadata": {},
   "outputs": [],
   "source": []
  },
  {
   "cell_type": "code",
   "execution_count": null,
   "metadata": {},
   "outputs": [],
   "source": []
  }
 ],
 "metadata": {
  "file_extension": ".py",
  "kernelspec": {
   "display_name": "Python 3",
   "language": "python",
   "name": "python3"
  },
  "language_info": {
   "codemirror_mode": {
    "name": "ipython",
    "version": 3
   },
   "file_extension": ".py",
   "mimetype": "text/x-python",
   "name": "python",
   "nbconvert_exporter": "python",
   "pygments_lexer": "ipython3",
   "version": "3.7.2"
  },
  "mimetype": "text/x-python",
  "name": "python",
  "npconvert_exporter": "python",
  "pygments_lexer": "ipython3",
  "version": 3
 },
 "nbformat": 4,
 "nbformat_minor": 2
}
