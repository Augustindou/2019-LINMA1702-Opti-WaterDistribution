{
 "cells": [
  {
   "cell_type": "markdown",
   "metadata": {},
   "source": [
    "#### École Polytechnique de Louvain - Université Catholique de Louvain\n",
    "### LINMA1702 Modèles et méthodes d'optimisation I\n",
    "# Optimisation d'un réseau de distribution d'eau <br>\n",
    " Année académique 2018-2019 <br>\n",
    " 17 Mai 2019 <br>\n",
    " __Professeurs et assistants :__ <br>\n",
    " Prof. F. Glineur <br>\n",
    " Emilie Renard <br>\n",
    " <br>\n",
    " __Groupe 7 :__ <br>\n",
    " Sarah Glume - 2947 1200 <br>\n",
    " Ferdinand Hannequart - 7290 1600 <br>\n",
    " Augustin d'Oultremont - 2239 1700 <br>\n",
    "\n",
    "## Introduction\n",
    " Dans le cadre de ce projet en modèles et méthodes d'optimisation, le fonctionnement d'un réseau de distribution d'eau dans une région montagneuse sera étudié, à l'aide des outils de l'optimisation linéaire.\n",
    "\n",
    " Dans un premier temps, un réseau existant sera analysé, ainsi que son coût de fonctionnement. Ensuite, des améliorations du réseau seront proposées, au moyen de la construction de châteaux d’eau. La dernière partie traitera de la conception d’un réseau optimal (topologie et dimensionnement des conduites).\n",
    "\n",
    "### Données utilisées dans le code:\n",
    " - __P__ : la position des points (x,y,z) [m]\n",
    " - __A__ : la matrice d'incidence [-]\n",
    " - __alpha__ : constante [m/h]\n",
    " - __R__ : rayon des conduites (identique pour toutes les conduites) [m]\n",
    "\n",
    "__Approvisionnement__\n",
    " - __A_pts__ : les indices des points d'approvisionnement [-]\n",
    " - __A_maxDeb__ : le débit maximal extractible en chaque point d'approvisionnement [m$^3$/h]\n",
    " - __A_cost__ : le coût d'extraction en chaque point d'approvisionnement [€/m$^3$]\n",
    "\n",
    "__Consommation__\n",
    " - __C_pts__ : les indices des points de consommation [-]\n",
    " - __C_minDeb__ : le débit minimal consommable en consommable en chaque point de consommation [m$^3$/h]\n",
    " - __C_maxDeb__ : le débit maximal consommable en consommable en chaque point de consommation [m$^3$/h]\n",
    " - __C_price__ : le prix facturé (identique pour tous les points de consommation) [€/m$^3$]\n",
    "\n",
    "__Intermédiaires__\n",
    " - __I_pts__ : les indices des points intermédiaires [-]"
   ]
  },
  {
   "cell_type": "code",
   "execution_count": 13,
   "metadata": {},
   "outputs": [],
   "source": [
    "import numpy as np\n",
    "from scipy.optimize import linprog\n",
    "\n",
    "P = np.array([\n",
    " [-9.6 , 2.7 , 0.08394446],\n",
    " [-6.9 , 7.1 , 0.09969025],\n",
    " [-9.0 , 3.2 , 0.08757438],\n",
    " [-1.7 , 9.4 , 0.07859208],\n",
    " [-6.3 , 6.6 , 0.09795454],\n",
    " [-8.0 , 4.1 , 0.09254527],\n",
    " [-8.3 , 0.0 , 0.06546171],\n",
    " [-3.7 , 7.7 , 0.09001772],\n",
    " [-2.9 , 7.7 , 0.08740385],\n",
    " [-5.8 , 0.0 , 0.06384532],\n",
    " [-6.0 , 4.5 , 0.09171610],\n",
    " [-1.3 , 7.1 , 0.08500010],\n",
    " [-6.1 , 3.2 , 0.08564233],\n",
    " [-4.6 , 4.7 , 0.08941448],\n",
    " [-4.1 , 4.7 , 0.08835686],\n",
    " [-5.2 , 3.3 , 0.08463326],\n",
    " [-1.5 , 5.1 , 0.08664609],\n",
    " [-0.0 , 5.0 , 0.08933714],\n",
    " [-2.6 , 2.1 , 0.07603164],\n",
    " [-3.1 , 0.2 , 0.06363058],\n",
    " [-1.2 , 1.6 , 0.07571709],\n",
    " [-0.9 , 0.0 , 0.06600560],\n",
    " [-0.2 , 0.0 , 0.06870617]])\n",
    "\n",
    "A = np.array([\n",
    "    [ 0, 1, 1, 0, 0, 0, 0, 0, 0, 0, 0, 0, 0, 0, 0, 0, 0, 0, 0, 0, 0, 0, 0, 0, 0, 0, 0, 0, 0, 0, 0, 0, 0, 0, 0, 0, 0, 0, 0],\n",
    "    [-1, 0, 0,-1,-1, 0, 0, 0, 0, 0, 0, 0, 0, 0, 0, 0, 0, 0, 0, 0, 0, 0, 0, 0, 0, 0, 0, 0, 0, 0, 0, 0, 0, 0, 0, 0, 0, 0, 0],\n",
    "    [ 0,-1, 0, 0, 0, 1,-1, 0, 0, 0, 0, 0, 0, 0, 0, 0, 0, 0, 0, 0, 0, 0, 0, 0, 0, 0, 0, 0, 0, 0, 0, 0, 0, 0, 0, 0, 0, 0, 0],\n",
    "    [ 0, 0, 0, 0, 0, 0, 0, 1, 1, 0, 0, 0, 0, 0, 0, 0, 0, 0, 0, 0, 0, 0, 0, 0, 0, 0, 0, 0, 0, 0, 0, 0, 0, 0, 0, 0, 0, 0, 0],\n",
    "    [ 0, 0, 0, 1, 0, 0, 0, 0, 0,-1,-1, 0, 0, 0, 0, 0, 0, 0, 0, 0, 0, 0, 0, 0, 0, 0, 0, 0, 0, 0, 0, 0, 0, 0, 0, 0, 0, 0, 0],\n",
    "    [ 0, 0,-1, 0, 0,-1, 0, 0, 0, 0, 0,-1,-1, 0, 0, 0, 0, 0, 0, 0, 0, 0, 0, 0, 0, 0, 0, 0, 0, 0, 0, 0, 0, 0, 0, 0, 0, 0, 0],\n",
    "    [ 0, 0, 0, 0, 0, 0, 0, 0, 0, 0, 0, 0, 0,-1, 1, 0, 0, 0, 0, 0, 0, 0, 0, 0, 0, 0, 0, 0, 0, 0, 0, 0, 0, 0, 0, 0, 0, 0, 0],\n",
    "    [ 1, 0, 0, 0, 0, 0, 0, 0, 0, 0, 0, 0, 0, 0, 0,-1,-1, 0, 0, 0, 0, 0, 0, 0, 0, 0, 0, 0, 0, 0, 0, 0, 0, 0, 0, 0, 0, 0, 0],\n",
    "    [ 0, 0, 0, 0, 0, 0, 0,-1, 0, 0, 0, 0, 0, 0, 0, 1, 0,-1,-1, 0, 0, 0, 0, 0, 0, 0, 0, 0, 0, 0, 0, 0, 0, 0, 0, 0, 0, 0, 0],\n",
    "    [ 0, 0, 0, 0, 0, 0, 0, 0, 0, 0, 0, 0, 0, 1, 0, 0, 0, 0, 0,-1, 0, 0, 0, 0, 0, 0, 0, 0, 0, 0, 0, 0, 0, 0, 0, 0, 0, 0, 0],\n",
    "    [ 0, 0, 0, 0, 1, 0, 0, 0, 0, 1, 0, 1, 0, 0, 0, 0, 0, 0, 0, 0,-1,-1, 0, 0, 0, 0, 0, 0, 0, 0, 0, 0, 0, 0, 0, 0, 0, 0, 0],\n",
    "    [ 0, 0, 0, 0, 0, 0, 0, 0,-1, 0, 0, 0, 0, 0, 0, 0, 1, 1, 0, 0, 0, 0, 1, 1, 0, 0, 0, 0, 0, 0, 0, 0, 0, 0, 0, 0, 0, 0, 0],\n",
    "    [ 0, 0, 0, 0, 0, 0, 1, 0, 0, 0, 0, 0, 1, 0,-1, 0, 0, 0, 0, 0, 1, 0, 0, 0,-1, 1, 0, 0, 0, 0, 0, 0, 0, 0, 0, 0, 0, 0, 0],\n",
    "    [ 0, 0, 0, 0, 0, 0, 0, 0, 0, 0, 1, 0, 0, 0, 0, 0, 0, 0, 0, 0, 0, 1, 0, 0, 0,-1,-1,-1, 0, 0, 0, 0, 0, 0, 0, 0, 0, 0, 0],\n",
    "    [ 0, 0, 0, 0, 0, 0, 0, 0, 0, 0, 0, 0, 0, 0, 0, 0, 0, 0, 0, 0, 0, 0, 0, 0, 0, 0, 1, 0,-1,-1, 0, 0, 0, 0, 0, 0, 0, 0, 0],\n",
    "    [ 0, 0, 0, 0, 0, 0, 0, 0, 0, 0, 0, 0, 0, 0, 0, 0, 0, 0, 0, 0, 0, 0, 0, 0, 1, 0, 0, 1, 1, 0,-1,-1, 0, 0, 0, 0, 0, 0, 0],\n",
    "    [ 0, 0, 0, 0, 0, 0, 0, 0, 0, 0, 0, 0, 0, 0, 0, 0, 0, 0, 1, 0, 0, 0,-1, 0, 0, 0, 0, 0, 0, 1, 0, 0, 1, 0, 0, 0, 0, 0, 0],\n",
    "    [ 0, 0, 0, 0, 0, 0, 0, 0, 0, 0, 0, 0, 0, 0, 0, 0, 0, 0, 0, 0, 0, 0, 0,-1, 0, 0, 0, 0, 0, 0, 0, 0,-1, 0, 0, 0, 0, 0, 0],\n",
    "    [ 0, 0, 0, 0, 0, 0, 0, 0, 0, 0, 0, 0, 0, 0, 0, 0, 0, 0, 0, 0, 0, 0, 0, 0, 0, 0, 0, 0, 0, 0, 1, 0, 0,-1,-1, 0, 0, 0, 0],\n",
    "    [ 0, 0, 0, 0, 0, 0, 0, 0, 0, 0, 0, 0, 0, 0, 0, 0, 0, 0, 0, 1, 0, 0, 0, 0, 0, 0, 0, 0, 0, 0, 0, 1, 0, 0, 1, 1, 0, 0, 0],\n",
    "    [ 0, 0, 0, 0, 0, 0, 0, 0, 0, 0, 0, 0, 0, 0, 0, 0, 0, 0, 0, 0, 0, 0, 0, 0, 0, 0, 0, 0, 0, 0, 0, 0, 0, 1, 0, 0,-1,-1, 0],\n",
    "    [ 0, 0, 0, 0, 0, 0, 0, 0, 0, 0, 0, 0, 0, 0, 0, 0, 0, 0, 0, 0, 0, 0, 0, 0, 0, 0, 0, 0, 0, 0, 0, 0, 0, 0, 0,-1, 1, 0, 1],\n",
    "    [ 0, 0, 0, 0, 0, 0, 0, 0, 0, 0, 0, 0, 0, 0, 0, 0, 0, 0, 0, 0, 0, 0, 0, 0, 0, 0, 0, 0, 0, 0, 0, 0, 0, 0, 0, 0, 0, 1,-1]])\n",
    "\n",
    "\n",
    "alpha = 10**6\n",
    "R = 1\n",
    "\n",
    "A_pts = np.array([2, 6])\n",
    "A_maxDeb = np.array([10000, 5000])\n",
    "A_cost = np.array([0.2, 0.3])\n",
    "\n",
    "C_pts = np.array([1, 4, 10, 20, 23])\n",
    "C_minDeb = np.array([200, 200, 200, 200, 200])\n",
    "C_maxDeb = np.array([4000,2000,2000,3000,2000])\n",
    "C_price = 0.9\n",
    "\n",
    "I_pts = np.array([3, 5, 7, 8, 9, 11, 12, 13, 14, 15, 16, 17, 18, 19, 21, 22])"
   ]
  },
  {
   "cell_type": "markdown",
   "metadata": {},
   "source": [
    "#### Calcul de valeurs, vecteurs et matrices utiles :"
   ]
  },
  {
   "cell_type": "code",
   "execution_count": 14,
   "metadata": {},
   "outputs": [],
   "source": [
    "m = len(A)\n",
    "n = len(A[0])\n",
    "\n",
    "A_pts -= np.ones(len(A_pts), dtype=int)\n",
    "C_pts -= np.ones(len(C_pts), dtype=int)\n",
    "I_pts -= np.ones(len(I_pts), dtype=int)\n",
    "dX = A.T @ P[:,0]\n",
    "dY = A.T @ P[:,1]\n",
    "dZ = A.T @ P[:,2]\n",
    "length = np.sqrt(dX**2 + dY**2 + dZ**2)\n",
    "maxDeb = -(alpha*R*R*dZ/length)\n",
    "C_prices = np.full(len(C_pts), C_price)"
   ]
  },
  {
   "cell_type": "markdown",
   "metadata": {},
   "source": [
    "## Partie 1 : Analyse d'un réseau existant\n",
    "### Résolution numérique de la maximisation du bénéfice"
   ]
  },
  {
   "cell_type": "code",
   "execution_count": 15,
   "metadata": {},
   "outputs": [],
   "source": [
    "c1 = C_prices @ A[C_pts]\n",
    "c2 = A_cost   @ A[A_pts]\n",
    "c = c1 + c2\n",
    "\n",
    "A_ub1 =  np.identity(n)\n",
    "b_ub1 =  maxDeb\n",
    "A_ub2 = -np.identity(n)\n",
    "b_ub2 =  np.zeros(n)\n",
    "A_ub3 =  A[C_pts]\n",
    "b_ub3 =  C_maxDeb\n",
    "A_ub4 = -A[C_pts]\n",
    "b_ub4 = -C_minDeb\n",
    "A_ub5 = -A[A_pts]\n",
    "b_ub5 =  A_maxDeb\n",
    "A_ub  = np.vstack(     [A_ub1,A_ub2,A_ub3,A_ub4,A_ub5])\n",
    "b_ub  = np.concatenate([b_ub1,b_ub2,b_ub3,b_ub4,b_ub5])\n",
    "\n",
    "A_eq = A[I_pts]\n",
    "b_eq = np.zeros(len(I_pts))\n",
    "\n",
    "x = linprog(-c, A_ub, b_ub, A_eq, b_eq); x.fun = -x.fun\n",
    "\n",
    "theta = x.x / maxDeb\n",
    "bilan = A @ x.x"
   ]
  },
  {
   "cell_type": "markdown",
   "metadata": {},
   "source": [
    "#### Maximum :"
   ]
  },
  {
   "cell_type": "code",
   "execution_count": 16,
   "metadata": {},
   "outputs": [
    {
     "name": "stdout",
     "output_type": "stream",
     "text": [
      "6500.7015612316245\n"
     ]
    }
   ],
   "source": [
    "print(x.fun)"
   ]
  },
  {
   "cell_type": "markdown",
   "metadata": {},
   "source": [
    "#### Vecteur Theta (comment positionner les vannes) :"
   ]
  },
  {
   "cell_type": "code",
   "execution_count": 17,
   "metadata": {},
   "outputs": [
    {
     "name": "stdout",
     "output_type": "stream",
     "text": [
      "1 : 0.6732010109493132\n",
      "2 : 0.0\n",
      "3 : 0.9887657370323449\n",
      "4 : 0.9437148533402158\n",
      "5 : 0.6075705922410412\n",
      "6 : 0.0\n",
      "7 : 0.0\n",
      "8 : 0.47229645395603437\n",
      "9 : 0.0\n",
      "10 : 0.0\n",
      "11 : 0.6261093062927638\n",
      "12 : 0.0\n",
      "13 : 0.0\n",
      "14 : 1.0\n",
      "15 : 0.12441653034971557\n",
      "16 : 0.6121224622390113\n",
      "17 : 0.0\n",
      "18 : 0.0\n",
      "19 : 0.0\n",
      "20 : 0.0\n",
      "21 : 0.3780090631726615\n",
      "22 : 0.0\n",
      "23 : 0.0\n",
      "24 : 0.0\n",
      "25 : 1.0\n",
      "26 : 0.0\n",
      "27 : 0.0\n",
      "28 : 0.6681275356559888\n",
      "29 : 0.0\n",
      "30 : 0.0\n",
      "31 : 0.0704404587909875\n",
      "32 : 0.5348443078207292\n",
      "33 : 0.0\n",
      "34 : 1.0\n",
      "35 : 0.0\n",
      "36 : 0.0\n",
      "37 : 0.0\n",
      "38 : 0.05694381091630959\n",
      "39 : 0.0\n"
     ]
    }
   ],
   "source": [
    "for i in range(len(theta)) :\n",
    "    print(str(i+1) + \" : \" + str(theta[i]))"
   ]
  },
  {
   "cell_type": "markdown",
   "metadata": {},
   "source": [
    "#### Bilan des débits en chaque point d'approvisionnement et de consommation :"
   ]
  },
  {
   "cell_type": "code",
   "execution_count": 19,
   "metadata": {},
   "outputs": [
    {
     "name": "stdout",
     "output_type": "stream",
     "text": [
      "Extraction aux points d'approvisionnement\n",
      "    2 : 5858.145087473749   [m^3/h]\n",
      "    6 : 4000.0   [m^3/h]\n",
      "Consommation aux points de consommation\n",
      "    1 : 4000.0   [m^3/h]\n",
      "    4 : 2000.0   [m^3/h]\n",
      "    10 : 646.5558648586366   [m^3/h]\n",
      "    20 : 3000.0   [m^3/h]\n",
      "    23 : 211.58922261511307   [m^3/h]\n"
     ]
    }
   ],
   "source": [
    "print(\"Extraction aux points d'approvisionnement\")\n",
    "for i in A_pts :\n",
    "    print(\"    \" + str(i+1) + \" : \" + str(np.round(-bilan[i], 1)) + \"   [m^3/h]\")\n",
    "print(\"Consommation aux points de consommation\")\n",
    "for i in C_pts :\n",
    "    print(\"    \" + str(i+1) + \" : \" + str(np.round( bilan[i], 1)) + \"   [m^3/h]\")"
   ]
  },
  {
   "cell_type": "markdown",
   "metadata": {},
   "source": [
    "## Partie 2 : Améliorations du réseau"
   ]
  },
  {
   "cell_type": "markdown",
   "metadata": {},
   "source": [
    "### Dépassement de la consommation pour une réduction du prix"
   ]
  },
  {
   "cell_type": "markdown",
   "metadata": {},
   "source": [
    "### Dépassement de la consommation pour une augmentation du prix"
   ]
  },
  {
   "cell_type": "markdown",
   "metadata": {},
   "source": [
    "###"
   ]
  }
 ],
 "metadata": {
  "file_extension": ".py",
  "kernelspec": {
   "display_name": "Python 3",
   "language": "python",
   "name": "python3"
  },
  "language_info": {
   "codemirror_mode": {
    "name": "ipython",
    "version": 3
   },
   "file_extension": ".py",
   "mimetype": "text/x-python",
   "name": "python",
   "nbconvert_exporter": "python",
   "pygments_lexer": "ipython3",
   "version": "3.7.2"
  },
  "mimetype": "text/x-python",
  "name": "python",
  "npconvert_exporter": "python",
  "pygments_lexer": "ipython3",
  "version": 3
 },
 "nbformat": 4,
 "nbformat_minor": 2
}
